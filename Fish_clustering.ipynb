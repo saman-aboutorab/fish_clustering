{
  "cells": [
    {
      "attachments": {},
      "cell_type": "markdown",
      "metadata": {
        "id": "l5d86QFPyCLb"
      },
      "source": [
        "# Fish type clustering"
      ]
    },
    {
      "attachments": {},
      "cell_type": "markdown",
      "metadata": {},
      "source": [
        "![fish](https://t3.ftcdn.net/jpg/04/36/80/36/360_F_436803668_6JDr0opcxWT6j6vD65BAxKRJJ6dwH8sE.jpg)"
      ]
    },
    {
      "attachments": {},
      "cell_type": "markdown",
      "metadata": {
        "id": "XIigj48HiaNC"
      },
      "source": [
        "Source:\n",
        "http://jse.amstat.org/jse_data_archive.html"
      ]
    },
    {
      "attachments": {},
      "cell_type": "markdown",
      "metadata": {
        "id": "cyJ4eQ_zpQQL"
      },
      "source": [
        "## Import modules"
      ]
    },
    {
      "cell_type": "code",
      "execution_count": 10,
      "metadata": {
        "id": "CtHQgBnZhhRf"
      },
      "outputs": [],
      "source": [
        "# Perform the necessary imports\n",
        "from sklearn.pipeline import make_pipeline\n",
        "from sklearn.preprocessing import StandardScaler\n",
        "from sklearn.cluster import KMeans\n",
        "# Import Normalizer\n",
        "from sklearn.preprocessing import Normalizer\n",
        "# Import pandas\n",
        "import pandas as pd\n",
        "\n",
        "# Import PCA\n",
        "from sklearn.decomposition import PCA"
      ]
    },
    {
      "attachments": {},
      "cell_type": "markdown",
      "metadata": {
        "id": "oH8dFdbXpTNj"
      },
      "source": [
        "## Dataset"
      ]
    },
    {
      "cell_type": "code",
      "execution_count": 11,
      "metadata": {
        "colab": {
          "base_uri": "https://localhost:8080/"
        },
        "id": "wWZRjN6Ui15Q",
        "outputId": "f9a1008c-c281-4370-ebfb-c1d6357e73c1"
      },
      "outputs": [
        {
          "name": "stdout",
          "output_type": "stream",
          "text": [
            "  species  weight  length1  length2  length3  Height%  Width%\n",
            "0   Bream   290.0     24.0     26.3     31.2     40.0    13.8\n",
            "1   Bream   340.0     23.9     26.5     31.1     39.8    15.1\n",
            "2   Bream   363.0     26.3     29.0     33.5     38.0    13.3\n",
            "3   Bream   430.0     26.5     29.0     34.0     36.6    15.1\n",
            "4   Bream   450.0     26.8     29.7     34.7     39.2    14.2\n",
            "['Bream' 'Roach' 'Smelt' 'Pike']\n"
          ]
        }
      ],
      "source": [
        "# Read Dataset as csv file\n",
        "fish_df = pd.read_csv('fish.csv')\n",
        "\n",
        "fish_df.columns = ['species', 'weight', 'length1', 'length2', 'length3', 'Height%','Width%']\n",
        "\n",
        "# print Dataset\n",
        "print(fish_df.head())\n",
        "print(fish_df['species'].unique())\n",
        "\n",
        "X_fish_df = fish_df.drop('species', axis=1)\n",
        "species = fish_df['species']\n",
        "\n",
        "samples = X_fish_df.to_numpy()"
      ]
    },
    {
      "attachments": {},
      "cell_type": "markdown",
      "metadata": {
        "id": "q9DG3ERMiOaQ"
      },
      "source": [
        "## Scaling"
      ]
    },
    {
      "cell_type": "code",
      "execution_count": 12,
      "metadata": {
        "id": "ssENFlkmiIp9"
      },
      "outputs": [],
      "source": [
        "# Create scaler: scaler\n",
        "scaler = StandardScaler()\n",
        "\n",
        "# Create KMeans instance: kmeans\n",
        "kmeans = KMeans(n_clusters=4)\n",
        "\n",
        "# Create pipeline: pipeline\n",
        "pipeline = make_pipeline(scaler, kmeans)"
      ]
    },
    {
      "attachments": {},
      "cell_type": "markdown",
      "metadata": {
        "id": "dnBxNyuJpMjm"
      },
      "source": [
        "## Clustering"
      ]
    },
    {
      "cell_type": "code",
      "execution_count": 13,
      "metadata": {
        "colab": {
          "base_uri": "https://localhost:8080/"
        },
        "id": "BZp_lZ1YiSFA",
        "outputId": "6315c9d1-6981-4790-be2c-d3d353f5c967"
      },
      "outputs": [
        {
          "name": "stdout",
          "output_type": "stream",
          "text": [
            "species  Bream  Pike  Roach  Smelt\n",
            "labels                            \n",
            "0            0    17      0      0\n",
            "1           33     0      1      0\n",
            "2            0     0      0     13\n",
            "3            0     0     19      1\n"
          ]
        },
        {
          "name": "stderr",
          "output_type": "stream",
          "text": [
            "/usr/local/lib/python3.10/dist-packages/sklearn/cluster/_kmeans.py:870: FutureWarning: The default value of `n_init` will change from 10 to 'auto' in 1.4. Set the value of `n_init` explicitly to suppress the warning\n",
            "  warnings.warn(\n"
          ]
        }
      ],
      "source": [
        "# Fit the pipeline to samples\n",
        "pipeline.fit(samples)\n",
        "\n",
        "# Calculate the cluster labels: labels\n",
        "labels = pipeline.predict(samples)\n",
        "\n",
        "# Create a DataFrame with labels and species as columns: df\n",
        "df = pd.DataFrame({'labels': labels, 'species': species})\n",
        "\n",
        "# Create crosstab: ct\n",
        "ct = pd.crosstab(df['labels'], df['species'])\n",
        "\n",
        "# Display ct\n",
        "print(ct)\n"
      ]
    },
    {
      "attachments": {},
      "cell_type": "markdown",
      "metadata": {
        "id": "u3i9TjkIEx96"
      },
      "source": [
        "## Dimension reduction"
      ]
    },
    {
      "cell_type": "code",
      "execution_count": 14,
      "metadata": {
        "colab": {
          "base_uri": "https://localhost:8080/"
        },
        "id": "iJpigP21Eo_D",
        "outputId": "dae8e72d-9b31-495a-b5d0-517df9899950"
      },
      "outputs": [
        {
          "name": "stdout",
          "output_type": "stream",
          "text": [
            "(84, 2)\n"
          ]
        }
      ],
      "source": [
        "scaler = StandardScaler()\n",
        "scaled_samples = scaler.fit_transform(samples)\n",
        "\n",
        "# Create a PCA model with 2 components: pca\n",
        "pca = PCA(n_components=2)\n",
        "\n",
        "# Fit the PCA instance to the scaled samples\n",
        "pca.fit(scaled_samples)\n",
        "\n",
        "# Transform the scaled samples: pca_features\n",
        "pca_features = pca.transform(scaled_samples)\n",
        "\n",
        "# Print the shape of pca_features\n",
        "print(pca_features.shape)\n"
      ]
    },
    {
      "attachments": {},
      "cell_type": "markdown",
      "metadata": {
        "id": "pikKCy1Mt0Cd"
      },
      "source": [
        "## Result\n",
        "The fish data separates really well into 4 clusters!"
      ]
    },
    {
      "cell_type": "code",
      "execution_count": null,
      "metadata": {
        "id": "1mz-ExoTiti2"
      },
      "outputs": [],
      "source": []
    }
  ],
  "metadata": {
    "colab": {
      "provenance": []
    },
    "kernelspec": {
      "display_name": "Python 3",
      "name": "python3"
    },
    "language_info": {
      "name": "python"
    }
  },
  "nbformat": 4,
  "nbformat_minor": 0
}
